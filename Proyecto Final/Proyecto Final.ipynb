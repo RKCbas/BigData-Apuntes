{
 "cells": [
  {
   "cell_type": "markdown",
   "metadata": {},
   "source": [
    "# Proyecto Final - Accidentes en USA\n",
    "\n",
    "En este proyecto se va a utilizar un DataSet de accidentes en US y se va a buscar analizar la gravedad de los mismos y graficar los resultados\n",
    "\n",
    "Debido a que el dataset es demasiado pesado no se va a subir al repositorio de git pero lo pueden descargar de este link:\n",
    "[Dataset](https://www.kaggle.com/datasets/sobhanmoosavi/us-accidents?select=US_Accidents_March23.csv)\n",
    "\n"
   ]
  }
 ],
 "metadata": {
  "language_info": {
   "name": "python"
  }
 },
 "nbformat": 4,
 "nbformat_minor": 2
}
