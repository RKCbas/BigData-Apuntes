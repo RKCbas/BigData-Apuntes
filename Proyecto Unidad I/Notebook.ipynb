{
 "cells": [
  {
   "cell_type": "markdown",
   "metadata": {},
   "source": [
    "# Big Data Notebook"
   ]
  },
  {
   "cell_type": "markdown",
   "metadata": {},
   "source": [
    "## Covid-19"
   ]
  },
  {
   "cell_type": "markdown",
   "metadata": {},
   "source": [
    "Una empresa farmacéutica internacional está considerando realizar pruebas clínicas de una nueva vacuna/tratamiento para COVID-19 en México. Para tomar decisiones informadas sobre la ubicación y el alcance de las pruebas, la empresa necesita analizar datos epidemiológicos y demográficos relevantes. Con no menos de 1,000,000 registros.\n",
    "\n",
    "### Adquisición y Limpieza de Datos:\n",
    "\n",
    "   - Identificar y evaluar fuentes de datos confiables sobre COVID-19 en México.\n",
    "   - Descargar y transformar datos en formatos adecuados (CSV, JSON).\n",
    "   - Limpiar y preparar los datos para el análisis. Por ejemplo: fecha (mm-dd-yyyy), no ids, si no nombres.\n",
    "\n",
    "### Ingesta de Datos en Elasticsearch:\n",
    "\n",
    "   - Crear un índice en Elasticsearch para almacenar los datos de COVID-19.\n",
    "   - Definir mappings para optimizar las búsquedas y el análisis.\n",
    "   - Cargar los datos en Elasticsearch utilizando herramientas como Python, Pandas y la librería elasticsearch.\n",
    "   - Definir queries básicas\n",
    "\n",
    "## Solución\n",
    "\n",
    "Para la solución de esta problemática encontramos un dataset de datos abiertos de la dirección de epidemiología de Mexico ([Datos](https://www.gob.mx/salud/documentos/datos-abiertos-152127)) en este \n"
   ]
  },
  {
   "cell_type": "markdown",
   "metadata": {},
   "source": [
    "### Importar librerias"
   ]
  },
  {
   "cell_type": "code",
   "execution_count": 4,
   "metadata": {},
   "outputs": [],
   "source": [
    "from ElasticSearchProvider import ElasticSearchProvider\n",
    "import json\n",
    "import time\n",
    "import pandas as pd\n",
    "import matplotlib.pyplot as plt\n",
    "import numpy as np"
   ]
  },
  {
   "cell_type": "markdown",
   "metadata": {},
   "source": [
    "## Modificar datos\n",
    "\n",
    "Primeramente vamos a definir variables que nos van a ayudar con la direccion de los archivos"
   ]
  },
  {
   "cell_type": "code",
   "execution_count": null,
   "metadata": {},
   "outputs": [],
   "source": [
    "json_file_path = \"./Proyecto Unidad I/Datos.json\"\n",
    "csv_file_path = \"./Proyecto Unidad I/COVID19MEXICO2020.csv\"\n",
    "excel_catalog_path = \"./Proyecto Unidad I/Catalogos.xlsx\""
   ]
  },
  {
   "cell_type": "markdown",
   "metadata": {},
   "source": [
    ">Descripcion: algo"
   ]
  }
 ],
 "metadata": {
  "kernelspec": {
   "display_name": ".venv",
   "language": "python",
   "name": "python3"
  },
  "language_info": {
   "codemirror_mode": {
    "name": "ipython",
    "version": 3
   },
   "file_extension": ".py",
   "mimetype": "text/x-python",
   "name": "python",
   "nbconvert_exporter": "python",
   "pygments_lexer": "ipython3",
   "version": "3.12.1"
  }
 },
 "nbformat": 4,
 "nbformat_minor": 2
}
